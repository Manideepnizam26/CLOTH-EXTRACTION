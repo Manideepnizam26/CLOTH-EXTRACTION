{
  "nbformat": 4,
  "nbformat_minor": 0,
  "metadata": {
    "colab": {
      "name": "SEMANTIC SEGMENTATION.ipynb",
      "provenance": [],
      "collapsed_sections": []
    },
    "kernelspec": {
      "name": "python3",
      "display_name": "Python 3"
    },
    "accelerator": "GPU"
  },
  "cells": [
    {
      "cell_type": "code",
      "metadata": {
        "id": "PkDwOWg_bE63",
        "colab_type": "code",
        "outputId": "35f12444-0bb6-4633-8b9e-1ae51c9ea304",
        "colab": {
          "base_uri": "https://localhost:8080/",
          "height": 34
        }
      },
      "source": [
        "import numpy as np\n",
        "import cv2\n",
        "import matplotlib.pyplot as plt\n",
        "from google.colab import drive\n",
        "import tensorflow as tf\n",
        "import glob\n",
        "import pickle\n",
        "from keras.layers.normalization import BatchNormalization\n",
        "from keras.models import Sequential\n",
        "from keras.layers import Dense, Conv2D, Dropout, Flatten, MaxPooling2D\n",
        "from keras.layers import Input, BatchNormalization, Conv2D, MaxPooling2D, Dense, Dropout, LeakyReLU, UpSampling2D, concatenate\n",
        "from keras.models import Model\n",
        "from torchvision import transforms\n",
        "import torchvision.models as models\n",
        "import time\n",
        "from keras.callbacks import ModelCheckpoint\n",
        "from keras.layers import Convolution2D\n",
        "from keras.layers import Layer, Dense, Dropout, Activation, Flatten, Reshape, Permute\n",
        "from keras.layers import ZeroPadding2D, UpSampling2D\n",
        "from keras.layers.normalization import BatchNormalization\n",
        "import sys\n",
        "\n",
        "\n"
      ],
      "execution_count": 0,
      "outputs": [
        {
          "output_type": "stream",
          "text": [
            "Using TensorFlow backend.\n"
          ],
          "name": "stderr"
        }
      ]
    },
    {
      "cell_type": "code",
      "metadata": {
        "id": "9IMOt4ZEvftx",
        "colab_type": "code",
        "colab": {}
      },
      "source": [
        "import keras.models as models\n",
        "from keras.layers.core import Layer, Dense, Dropout, Activation, Flatten, Reshape, Permute\n",
        "from keras.layers.convolutional import Convolution2D, MaxPooling2D, UpSampling2D, ZeroPadding2D\n",
        "from keras.layers.normalization import BatchNormalization\n"
      ],
      "execution_count": 0,
      "outputs": []
    },
    {
      "cell_type": "code",
      "metadata": {
        "id": "Zk0el6vPeugT",
        "colab_type": "code",
        "outputId": "70fb3754-7cb4-4ec7-b68f-7bbc0987b616",
        "colab": {
          "base_uri": "https://localhost:8080/",
          "height": 34
        }
      },
      "source": [
        "drive.mount(\"/content/drive\")\n"
      ],
      "execution_count": 0,
      "outputs": [
        {
          "output_type": "stream",
          "text": [
            "Drive already mounted at /content/drive; to attempt to forcibly remount, call drive.mount(\"/content/drive\", force_remount=True).\n"
          ],
          "name": "stdout"
        }
      ]
    },
    {
      "cell_type": "code",
      "metadata": {
        "id": "iaTdLejRebuD",
        "colab_type": "code",
        "colab": {}
      },
      "source": [
        "train_images = []\n",
        "train_output = []\n",
        "test_images = []\n",
        "test_output = []"
      ],
      "execution_count": 0,
      "outputs": []
    },
    {
      "cell_type": "code",
      "metadata": {
        "id": "lV13I71iegfA",
        "colab_type": "code",
        "outputId": "81cdf2a2-f477-41b1-d688-e892d90e5f82",
        "colab": {
          "base_uri": "https://localhost:8080/",
          "height": 70
        }
      },
      "source": [
        "files = glob.glob('/content/drive/My Drive/DATA/train/*')\n",
        "\n",
        "print(len(files))\n",
        "count = -1\n",
        "\n",
        "t1 = time.time()\n",
        "\n",
        "for image_file in files:\n",
        "    count+=1\n",
        "    if count%100==0:\n",
        "      print(count,end=\", \")\n",
        "    image = cv2.imread(image_file)\n",
        "    image1, image2 = np.split(image,2,1)\n",
        "    train_images.append(image1)\n",
        "    train_output.append(image2)\n",
        "\n",
        "t2 = time.time()\n",
        "\n",
        "print(t2-t1)"
      ],
      "execution_count": 0,
      "outputs": [
        {
          "output_type": "stream",
          "text": [
            "2975\n",
            "0, 100, 200, 300, 400, 500, 600, 700, 800, 900, 1000, 1100, 1200, 1300, 1400, 1500, 1600, 1700, 1800, 1900, 2000, 2100, 2200, 2300, 2400, 2500, 2600, 2700, 2800, 2900, 2210.338477373123\n"
          ],
          "name": "stdout"
        }
      ]
    },
    {
      "cell_type": "code",
      "metadata": {
        "id": "M4QubT4belr6",
        "colab_type": "code",
        "outputId": "f3515b4e-ecea-4686-87f1-c637017b3e1a",
        "colab": {
          "base_uri": "https://localhost:8080/",
          "height": 70
        }
      },
      "source": [
        "files = glob.glob('/content/drive/My Drive/DATA/train/*')\n",
        "print(len(files))\n",
        "count = 0\n",
        "t1 = time.time()\n",
        "for image_file in files:\n",
        "    if count%100==0:\n",
        "      print(count,end=\", \")\n",
        "    count+=1\n",
        "    image = cv2.imread(image_file)\n",
        "    image1, image2 = np.split(image,2,1)\n",
        "    test_images.append(image1)\n",
        "    test_output.append(image2)\n",
        "\n",
        "t2 = time.time()\n",
        "print(t2-t1)"
      ],
      "execution_count": 0,
      "outputs": [
        {
          "output_type": "stream",
          "text": [
            "2975\n",
            "0, 100, 200, 300, 400, 500, 600, 700, 800, 900, 1000, 1100, 1200, 1300, 1400, 1500, 1600, 1700, 1800, 1900, 2000, 2100, 2200, 2300, 2400, 2500, 2600, 2700, 2800, 2900, 15.270366430282593\n"
          ],
          "name": "stdout"
        }
      ]
    },
    {
      "cell_type": "code",
      "metadata": {
        "id": "Hk4mKr5sfJwm",
        "colab_type": "code",
        "outputId": "ac949159-2f09-43c3-ffde-fa5686cfb99d",
        "colab": {
          "base_uri": "https://localhost:8080/",
          "height": 330
        }
      },
      "source": [
        "print(t2-t1)\n",
        "print(len(train_images))\n",
        "print(len(train_output))\n",
        "print(len(test_images))\n",
        "print(len(test_output))\n",
        "print(train_images[0].shape)\n",
        "print(train_output[0].shape)\n",
        "print(test_images[0].shape)\n",
        "print(test_output[0].shape)"
      ],
      "execution_count": 0,
      "outputs": [
        {
          "output_type": "stream",
          "text": [
            "9.655952453613281e-05\n",
            "2975\n",
            "2975\n",
            "0\n",
            "0\n",
            "(256, 256, 3)\n",
            "(256, 256, 3)\n"
          ],
          "name": "stdout"
        },
        {
          "output_type": "error",
          "ename": "IndexError",
          "evalue": "ignored",
          "traceback": [
            "\u001b[0;31m---------------------------------------------------------------------------\u001b[0m",
            "\u001b[0;31mIndexError\u001b[0m                                Traceback (most recent call last)",
            "\u001b[0;32m<ipython-input-10-1d7742ec919b>\u001b[0m in \u001b[0;36m<module>\u001b[0;34m()\u001b[0m\n\u001b[1;32m      6\u001b[0m \u001b[0mprint\u001b[0m\u001b[0;34m(\u001b[0m\u001b[0mtrain_images\u001b[0m\u001b[0;34m[\u001b[0m\u001b[0;36m0\u001b[0m\u001b[0;34m]\u001b[0m\u001b[0;34m.\u001b[0m\u001b[0mshape\u001b[0m\u001b[0;34m)\u001b[0m\u001b[0;34m\u001b[0m\u001b[0;34m\u001b[0m\u001b[0m\n\u001b[1;32m      7\u001b[0m \u001b[0mprint\u001b[0m\u001b[0;34m(\u001b[0m\u001b[0mtrain_output\u001b[0m\u001b[0;34m[\u001b[0m\u001b[0;36m0\u001b[0m\u001b[0;34m]\u001b[0m\u001b[0;34m.\u001b[0m\u001b[0mshape\u001b[0m\u001b[0;34m)\u001b[0m\u001b[0;34m\u001b[0m\u001b[0;34m\u001b[0m\u001b[0m\n\u001b[0;32m----> 8\u001b[0;31m \u001b[0mprint\u001b[0m\u001b[0;34m(\u001b[0m\u001b[0mtest_images\u001b[0m\u001b[0;34m[\u001b[0m\u001b[0;36m0\u001b[0m\u001b[0;34m]\u001b[0m\u001b[0;34m.\u001b[0m\u001b[0mshape\u001b[0m\u001b[0;34m)\u001b[0m\u001b[0;34m\u001b[0m\u001b[0;34m\u001b[0m\u001b[0m\n\u001b[0m\u001b[1;32m      9\u001b[0m \u001b[0mprint\u001b[0m\u001b[0;34m(\u001b[0m\u001b[0mtest_output\u001b[0m\u001b[0;34m[\u001b[0m\u001b[0;36m0\u001b[0m\u001b[0;34m]\u001b[0m\u001b[0;34m.\u001b[0m\u001b[0mshape\u001b[0m\u001b[0;34m)\u001b[0m\u001b[0;34m\u001b[0m\u001b[0;34m\u001b[0m\u001b[0m\n",
            "\u001b[0;31mIndexError\u001b[0m: list index out of range"
          ]
        }
      ]
    },
    {
      "cell_type": "code",
      "metadata": {
        "id": "ZpiXw5P9oSQ8",
        "colab_type": "code",
        "colab": {}
      },
      "source": [
        "# plt.imshow(train_images[132][:,:,[2,1,0]],cmap=\"gray\")"
      ],
      "execution_count": 0,
      "outputs": []
    },
    {
      "cell_type": "code",
      "metadata": {
        "id": "acAefsIV2FNs",
        "colab_type": "code",
        "colab": {}
      },
      "source": [
        "# plt.imshow(train_output[132][:,:,[2,1,0]],cmap=\"gray\")"
      ],
      "execution_count": 0,
      "outputs": []
    },
    {
      "cell_type": "code",
      "metadata": {
        "id": "xF58gg4Xd_W8",
        "colab_type": "code",
        "colab": {}
      },
      "source": [
        "X_train = np.array(train_images)\n",
        "X_test = np.array(test_images)\n",
        "print(X_train.shape)\n",
        "print(X_test.shape)\n",
        "\n",
        "y_train = np.array(train_output)\n",
        "y_test = np.array(test_output)\n",
        "print(y_train.shape)\n",
        "print(y_test.shape)"
      ],
      "execution_count": 0,
      "outputs": []
    },
    {
      "cell_type": "code",
      "metadata": {
        "id": "W9LIJZcLv1RJ",
        "colab_type": "code",
        "colab": {}
      },
      "source": [
        "# X_train = X_train.transpose(0,3,2,1)\n",
        "# print(X_train.shape)\n",
        "# # images = images.reshape(10000,3,32,32).transpose(0,2,3,1)\n"
      ],
      "execution_count": 0,
      "outputs": []
    },
    {
      "cell_type": "code",
      "metadata": {
        "id": "G7S3wjEjxrNR",
        "colab_type": "code",
        "colab": {}
      },
      "source": [
        "# y_train = y_train.transpose(0,3,2,1)\n",
        "# X_test = X_test.transpose(0,3,2,1)\n",
        "# y_test = y_test.transpose(0,3,2,1)\n"
      ],
      "execution_count": 0,
      "outputs": []
    },
    {
      "cell_type": "code",
      "metadata": {
        "id": "z6ojA85hxrRu",
        "colab_type": "code",
        "colab": {}
      },
      "source": [
        "print(X_train.shape)\n",
        "print(X_test.shape)\n",
        "print(y_train.shape)\n",
        "print(y_test.shape)"
      ],
      "execution_count": 0,
      "outputs": []
    },
    {
      "cell_type": "code",
      "metadata": {
        "id": "HEOpTErgxrQS",
        "colab_type": "code",
        "colab": {}
      },
      "source": [
        ""
      ],
      "execution_count": 0,
      "outputs": []
    },
    {
      "cell_type": "code",
      "metadata": {
        "id": "v8zepRXtdeAu",
        "colab_type": "code",
        "colab": {}
      },
      "source": [
        "X_train = X_train.astype('float32')\n",
        "y_train = y_train.astype('float32')\n",
        "\n",
        "X_test = X_test.astype('float32')\n",
        "y_test = y_test.astype('float32')\n",
        "\n",
        "\n",
        "X_train /=255\n",
        "y_train /=255\n",
        "\n",
        "X_test /=255\n",
        "y_test /=255\n",
        "# x_train /= 255\n",
        "# x_test /= 255"
      ],
      "execution_count": 0,
      "outputs": []
    },
    {
      "cell_type": "code",
      "metadata": {
        "id": "kAALvHRsUlHb",
        "colab_type": "code",
        "colab": {}
      },
      "source": [
        "# model.fit(x=X_train,y=y_train, epochs=50)"
      ],
      "execution_count": 0,
      "outputs": []
    },
    {
      "cell_type": "code",
      "metadata": {
        "id": "Ya2izcMZVF7-",
        "colab_type": "code",
        "colab": {}
      },
      "source": [
        "# model.evaluate(test_images, test_output)"
      ],
      "execution_count": 0,
      "outputs": []
    },
    {
      "cell_type": "code",
      "metadata": {
        "id": "5782PjYZk0WY",
        "colab_type": "code",
        "colab": {}
      },
      "source": [
        ""
      ],
      "execution_count": 0,
      "outputs": []
    },
    {
      "cell_type": "code",
      "metadata": {
        "id": "RFywIgFyk0bT",
        "colab_type": "code",
        "colab": {}
      },
      "source": [
        ""
      ],
      "execution_count": 0,
      "outputs": []
    },
    {
      "cell_type": "code",
      "metadata": {
        "id": "6wl0BTXbk0d5",
        "colab_type": "code",
        "colab": {}
      },
      "source": [
        "import keras.models as models\n",
        "from keras.layers.core import Layer, Dense, Dropout, Activation, Flatten, Reshape, Permute\n",
        "from keras.layers.convolutional import Convolution2D, MaxPooling2D, UpSampling2D, ZeroPadding2D\n",
        "from keras.layers.normalization import BatchNormalization\n",
        "\n",
        "from keras import backend as K"
      ],
      "execution_count": 0,
      "outputs": []
    },
    {
      "cell_type": "code",
      "metadata": {
        "id": "GBrqg17Ek0Zv",
        "colab_type": "code",
        "colab": {}
      },
      "source": [
        "kernel = 3\n",
        "filter_size = 64\n",
        "pad = 1\n",
        "pool_size = 2\n",
        "\n",
        "data_shape = 256*256\n",
        "\n",
        "segnet = models.Sequential()\n",
        "# segnet.add(Layer(input_shape=(3, 256, 256)))\n",
        "segnet.add(Layer(input_shape=(256, 256, 3)))\n",
        "\n",
        "\n",
        "segnet.add(ZeroPadding2D(padding=(pad,pad)))\n",
        "segnet.add(Convolution2D(filter_size, (kernel, kernel), padding='valid'))\n",
        "segnet.add(BatchNormalization())\n",
        "segnet.add(Activation('relu'))\n",
        "segnet.add(MaxPooling2D(pool_size=(pool_size, pool_size)))\n",
        "\n",
        "\n",
        "segnet.add(ZeroPadding2D(padding=(pad,pad)))\n",
        "segnet.add(Convolution2D(128, (kernel, kernel), padding='valid'))\n",
        "segnet.add(BatchNormalization())\n",
        "segnet.add(Activation('relu'))\n",
        "segnet.add(MaxPooling2D(pool_size=(pool_size, pool_size)))\n",
        "\n",
        "\n",
        "segnet.add(ZeroPadding2D(padding=(pad,pad)))\n",
        "segnet.add(Convolution2D(256, (kernel, kernel), padding='valid'))\n",
        "segnet.add(BatchNormalization())\n",
        "segnet.add(Activation('relu'))\n",
        "segnet.add(MaxPooling2D(pool_size=(pool_size, pool_size)))\n",
        "\n",
        "\n",
        "segnet.add(ZeroPadding2D(padding=(pad,pad)))\n",
        "segnet.add(Convolution2D(512, (kernel, kernel), padding='valid'))\n",
        "segnet.add(BatchNormalization())\n",
        "segnet.add(Activation('relu'))\n",
        "\n",
        "\n",
        "segnet.add(ZeroPadding2D(padding=(pad,pad)))\n",
        "segnet.add(Convolution2D(512, (kernel, kernel), padding='valid'))\n",
        "segnet.add(BatchNormalization())\n",
        "\n",
        "\n",
        "segnet.add(UpSampling2D(size=(pool_size,pool_size)))\n",
        "segnet.add(ZeroPadding2D(padding=(pad,pad)))\n",
        "segnet.add(Convolution2D(256, (kernel, kernel), padding='valid'))\n",
        "segnet.add(BatchNormalization())\n",
        "\n",
        "\n",
        "\n",
        "\n",
        "# segnet.add(UpSampling2D(size=(pool_size,pool_size)))\n",
        "# segnet.add(ZeroPadding2D(padding=(pad,pad)))\n",
        "# segnet.add(Convolution2D(256, (kernel, kernel), padding='valid'))\n",
        "# segnet.add(BatchNormalization())\n",
        "\n",
        "\n",
        "segnet.add(UpSampling2D(size=(pool_size,pool_size)))\n",
        "segnet.add(ZeroPadding2D(padding=(pad,pad)))\n",
        "segnet.add(Convolution2D(128, (kernel, kernel), padding='valid'))\n",
        "segnet.add(BatchNormalization())\n",
        "\n",
        "\n",
        "segnet.add(UpSampling2D(size=(pool_size,pool_size)))\n",
        "segnet.add(ZeroPadding2D(padding=(pad,pad)))\n",
        "segnet.add(Convolution2D(filter_size, (kernel, kernel), padding='valid'))\n",
        "segnet.add(BatchNormalization())\n",
        "\n",
        "segnet.add(Convolution2D(3, (1, 1), padding='valid'))\n",
        "\n",
        "# segnet.add(Reshape((data_shape,12), input_shape=(256,256,12)))\n"
      ],
      "execution_count": 0,
      "outputs": []
    },
    {
      "cell_type": "code",
      "metadata": {
        "id": "Edmz3FZp93bI",
        "colab_type": "code",
        "colab": {}
      },
      "source": [
        "\n",
        "\n",
        "\n",
        "# segnet.add(Reshape((12,data_shape), input_shape=(12,360,480)))\n",
        "# segnet.add(Permute((2, 1)))\n",
        "segnet.add(Activation('softmax'))\n",
        "# "
      ],
      "execution_count": 0,
      "outputs": []
    },
    {
      "cell_type": "code",
      "metadata": {
        "id": "VT9OcZI393g6",
        "colab_type": "code",
        "colab": {}
      },
      "source": [
        "segnet.compile(loss=\"binary_crossentropy\", optimizer='adam',metrics=['binary_accuracy'])"
      ],
      "execution_count": 0,
      "outputs": []
    },
    {
      "cell_type": "code",
      "metadata": {
        "id": "c0zU2ZcM93fE",
        "colab_type": "code",
        "colab": {}
      },
      "source": [
        "segnet.fit(x=X_train,y=y_train, epochs=100)"
      ],
      "execution_count": 0,
      "outputs": []
    },
    {
      "cell_type": "code",
      "metadata": {
        "id": "0cAaZZW5HMuR",
        "colab_type": "code",
        "colab": {}
      },
      "source": [
        ""
      ],
      "execution_count": 0,
      "outputs": []
    },
    {
      "cell_type": "code",
      "metadata": {
        "id": "AP3Vab6s2Ipj",
        "colab_type": "code",
        "colab": {}
      },
      "source": [
        "# kernel = 3\n",
        "# filter_size = 64\n",
        "# pad = 1\n",
        "# pool_size = 2\n",
        "\n",
        "# img_rows = 256\n",
        "# img_cols = 256\n",
        "\n",
        "# label_rows = 256\n",
        "# label_cols = 256\n",
        "\n",
        "# model = Sequential()\n",
        "\n",
        "# model.add(Layer(input_shape=(img_rows, img_cols, 3)))\n",
        "# # encoding layers\n",
        "# model.add(ZeroPadding2D(padding=(pad, pad)))\n",
        "# model.add(Convolution2D(filter_size, kernel, kernel, border_mode='valid'))\n",
        "# model.add(BatchNormalization())\n",
        "# model.add(MaxPooling2D(pool_size=(pool_size, pool_size)))\n",
        "\n",
        "# model.add(ZeroPadding2D(padding=(pad, pad)))\n",
        "# model.add(Convolution2D(128, kernel, kernel, border_mode='valid'))\n",
        "# model.add(BatchNormalization())\n",
        "# model.add(Activation('relu'))\n",
        "# model.add(MaxPooling2D(pool_size=(pool_size, pool_size)))\n",
        "\n",
        "# model.add(ZeroPadding2D(padding=(pad, pad)))\n",
        "# model.add(Convolution2D(256, kernel, kernel, border_mode='valid'))\n",
        "# model.add(BatchNormalization())\n",
        "# model.add(Activation('relu'))\n",
        "# model.add(MaxPooling2D(pool_size=(pool_size, pool_size)))\n",
        "\n",
        "# model.add(ZeroPadding2D(padding=(pad, pad)))\n",
        "# model.add(Convolution2D(512, kernel, kernel, border_mode='valid'))\n",
        "# model.add(BatchNormalization())\n",
        "# model.add(Activation('relu'))\n",
        "\n",
        "# # decoding layers\n",
        "# model.add(ZeroPadding2D(padding=(pad, pad)))\n",
        "# model.add(Convolution2D(512, kernel, kernel, border_mode='valid'))\n",
        "# model.add(BatchNormalization())\n",
        "\n",
        "# model.add(UpSampling2D(size=(pool_size, pool_size)))\n",
        "# model.add(ZeroPadding2D(padding=(pad, pad)))\n",
        "# model.add(Convolution2D(256, kernel, kernel, border_mode='valid'))\n",
        "# model.add(BatchNormalization())\n",
        "\n",
        "# model.add(UpSampling2D(size=(pool_size, pool_size)))\n",
        "# model.add(ZeroPadding2D(padding=(pad, pad)))\n",
        "# model.add(Convolution2D(128, kernel, kernel, border_mode='valid'))\n",
        "# model.add(BatchNormalization())\n",
        "\n",
        "# model.add(UpSampling2D(size=(pool_size, pool_size)))\n",
        "# model.add(ZeroPadding2D(padding=(pad, pad)))\n",
        "# model.add(Convolution2D(filter_size, kernel, kernel, border_mode='valid'))\n",
        "# model.add(BatchNormalization())\n",
        "\n",
        "# # model.add(Convolution2D(1, 1, 1, border_mode='valid',))\n",
        "# print(model.output_shape)\n",
        "# # model.add(Reshape((label_rows * label_cols,)))\n",
        "# # model.add(Reshape((label_rows * label_cols*3,)))\n",
        "# # model.add(Activation('sigmoid'))\n",
        "\n",
        "# # model.add(Reshape((label_rows, label_cols, 1)))\n",
        "# # model.add(Reshape((label_rows, label_cols, 3)))\n",
        "\n",
        "# model.compile(loss=\"binary_crossentropy\", optimizer='rmsprop',\n",
        "#               metrics=['binary_accuracy'])"
      ],
      "execution_count": 0,
      "outputs": []
    }
  ]
}